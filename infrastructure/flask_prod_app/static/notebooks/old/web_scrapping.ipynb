{
 "cells": [
  {
   "cell_type": "code",
   "execution_count": 10,
   "metadata": {
    "tags": [
     "parameters"
    ]
   },
   "outputs": [],
   "source": [
    "# this cell is tagged 'parameters'\n",
    "peopleList = [ {\"word_to_search\": \"Jimmy Morales\"}, ]"
   ]
  },
  {
   "cell_type": "code",
   "execution_count": null,
   "metadata": {},
   "outputs": [],
   "source": [
    "import requests\n",
    "from bs4 import BeautifulSoup\n",
    "import sys\n",
    "sys.path.insert(0,'/usr/lib/chromium-browser/chromedriver')\n",
    "from selenium import webdriver\n",
    "from selenium.webdriver.common.by import By as By\n",
    "import re\n",
    "\n",
    "chrome_options = webdriver.ChromeOptions()\n",
    "chrome_options.add_argument('--headless')\n",
    "chrome_options.add_argument('--no-sandbox')\n",
    "chrome_options.add_argument('--disable-dev-shm-usage')\n",
    "\n",
    "driver = webdriver.Chrome('chromedriver',options=chrome_options)\n"
   ]
  },
  {
   "cell_type": "code",
   "execution_count": 5,
   "metadata": {},
   "outputs": [],
   "source": [
    "\n",
    "def loginToWebPage():\n",
    "    url = 'https://elperiodico.com.gt/politica/justicia/2022/08/12/the-economist-jose-ruben-zamora-ha-hecho-una-cruzada-contra-la-corrupcion-en-guatemala/'\n",
    "    #r = requests.get(url)\n",
    "    #s = BeautifulSoup(r.text, 'lxml')\n",
    "\n",
    "    driver.get(url)\n",
    "\n",
    "    try:\n",
    "        botonCerrarNotificacion = driver.find_element_by_xpath('//*[@id=\"onesignal-slidedown-cancel-button\"]' )\n",
    "        botonCerrarNotificacion.click()\n",
    "    except:\n",
    "        print('No hay notificacion')\n",
    "        \n",
    "    try:        \n",
    "        button_login = driver.find_element_by_xpath('//*[@id=\"userbox\"]/nav/a[2]/i')\n",
    "        button_login.click()\n",
    "\n",
    "        # si necesita ingresar usuario y contraseña para ver mas articulos\n",
    "        user_name = driver.find_element_by_xpath('//*[@id=\"user_login\"]')\n",
    "        user_password = driver.find_element_by_xpath('//*[@id=\"user_pass\"]')\n",
    "        button_accept = driver.find_element_by_xpath('//*[@id=\"wp-submit\"]')\n",
    "        user_name.clear()\n",
    "        user_password.clear()\n",
    "        user_name.send_keys('yoentroalau@gmail.com')\n",
    "        user_password.send_keys('A@@@1234')\n",
    "        button_accept.click()\n",
    "    except:\n",
    "        print('No hay login')\n",
    "\n",
    "    "
   ]
  },
  {
   "cell_type": "code",
   "execution_count": 6,
   "metadata": {},
   "outputs": [],
   "source": [
    "def navegarArticuloPorPalabra(palabraABuscar, objetoPersona):\n",
    "    driver.get(f'https://elperiodico.com.gt/?s={palabraABuscar}&Submit=')\n",
    "\n",
    "    try:\n",
    "        entradas_anteriores = driver.find_element_by_class_name('nav-previous')\n",
    "        entradas_anteriores.click()\n",
    "    except:\n",
    "        print('No hay entradas anteriores')\n",
    "\n",
    "    link_articulo = driver.find_element_by_xpath('//*[@id=\"seccion\"]/div[1]/div/a[1]')\n",
    "    link_articulo.click()\n",
    "\n",
    "    try:\n",
    "        title = driver.find_element_by_class_name('post-title-big').text\n",
    "    except:\n",
    "        title = palabraABuscar\n",
    "    date  = driver.find_element_by_xpath('//*[@id=\"space-meta\"]').text\n",
    "    formatted_date = re.findall(\"\\d\\d-\\d\\d-\\d\\d\", date)\n",
    "\n",
    "    articles_body = driver.find_element_by_xpath('//div[@class=\"flexible-article-content\"]')\n",
    "\n",
    "    from selenium.webdriver.common.by import By\n",
    "\n",
    "    articles = articles_body.find_elements(By.TAG_NAME, 'p')\n",
    "\n",
    "    full_text = ''\n",
    "\n",
    "    for article in articles:\n",
    "        full_text = full_text + article.text + ' '\n",
    "\n",
    "    objetoPersona[\"title\"] = title\n",
    "    objetoPersona[\"date\"] = date\n",
    "    objetoPersona[\"full_text\"] = full_text\n",
    "    objetoPersona[\"word_to_search\"] = palabraABuscar\n",
    "    return objetoPersona"
   ]
  },
  {
   "cell_type": "code",
   "execution_count": null,
   "metadata": {},
   "outputs": [],
   "source": [
    "result = []\n",
    "loginToWebPage()\n",
    "for people in peopleList:    \n",
    "    result.append(navegarArticuloPorPalabra(people['word_to_search'], people))\n",
    "\n",
    "driver.close()"
   ]
  },
  {
   "cell_type": "code",
   "execution_count": null,
   "metadata": {
    "tags": [
     "output"
    ]
   },
   "outputs": [],
   "source": [
    "#this cell is tagged as output\n",
    "print(str(result))"
   ]
  }
 ],
 "metadata": {
  "celltoolbar": "Tags",
  "kernelspec": {
   "display_name": "Python 3",
   "language": "python",
   "name": "python3"
  },
  "language_info": {
   "codemirror_mode": {
    "name": "ipython",
    "version": 3
   },
   "file_extension": ".py",
   "mimetype": "text/x-python",
   "name": "python",
   "nbconvert_exporter": "python",
   "pygments_lexer": "ipython3",
   "version": "3.8.8"
  },
  "vscode": {
   "interpreter": {
    "hash": "257006080e833d260a997c02fb943a84f893968567ef79dcf54106ad401e7e3a"
   }
  }
 },
 "nbformat": 4,
 "nbformat_minor": 2
}

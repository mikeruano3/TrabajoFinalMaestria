{
 "cells": [
  {
   "cell_type": "code",
   "execution_count": 1,
   "metadata": {},
   "outputs": [
    {
     "name": "stderr",
     "output_type": "stream",
     "text": [
      "c:\\Users\\miguel\\anaconda3\\lib\\site-packages\\torchaudio\\backend\\utils.py:62: UserWarning: No audio backend is available.\n",
      "  warnings.warn(\"No audio backend is available.\")\n"
     ]
    }
   ],
   "source": [
    "%store -r isGlobalVariableReady\n",
    "\n",
    "from transformers import *\n",
    "from tensorflow import keras       \n",
    "from transformers import AutoTokenizer, AutoModelForQuestionAnswering\n",
    "\n",
    "def defineGlobalVariable():\n",
    "    nlp = pipeline(\n",
    "        'question-answering',\n",
    "        model='mrm8488/distill-bert-base-spanish-wwm-cased-finetuned-spa-squad2-es',\n",
    "        tokenizer=(\n",
    "        'mrm8488/distill-bert-base-spanish-wwm-cased-finetuned-spa-squad2-es',\n",
    "        {\"use_fast\": False}\n",
    "        )\n",
    "    )\n",
    "    %store nlp\n",
    "    isGlobalVariableReady = True\n",
    "    %store isGlobalVariableReady\n",
    "\n",
    "try:\n",
    "    if not isGlobalVariableReady:\n",
    "        defineGlobalVariable()\n",
    "except:\n",
    "    defineGlobalVariable()\n"
   ]
  },
  {
   "cell_type": "code",
   "execution_count": 4,
   "metadata": {
    "tags": [
     "output"
    ]
   },
   "outputs": [
    {
     "data": {
      "text/plain": [
       "<transformers.pipelines.question_answering.QuestionAnsweringPipeline at 0x20e7ee22ee0>"
      ]
     },
     "execution_count": 4,
     "metadata": {},
     "output_type": "execute_result"
    }
   ],
   "source": [
    "#this cell is tagged as output\n",
    "\n",
    "%store -r nlp\n",
    "nlp"
   ]
  }
 ],
 "metadata": {
  "celltoolbar": "Tags",
  "kernelspec": {
   "display_name": "Python 3",
   "language": "python",
   "name": "python3"
  },
  "language_info": {
   "codemirror_mode": {
    "name": "ipython",
    "version": 3
   },
   "file_extension": ".py",
   "mimetype": "text/x-python",
   "name": "python",
   "nbconvert_exporter": "python",
   "pygments_lexer": "ipython3",
   "version": "3.8.8"
  },
  "vscode": {
   "interpreter": {
    "hash": "257006080e833d260a997c02fb943a84f893968567ef79dcf54106ad401e7e3a"
   }
  }
 },
 "nbformat": 4,
 "nbformat_minor": 2
}

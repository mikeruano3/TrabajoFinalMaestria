{
 "cells": [
  {
   "cell_type": "code",
   "execution_count": 1,
   "metadata": {
    "tags": [
     "parameters"
    ]
   },
   "outputs": [],
   "source": [
    "#this cell is tagged as parameters\n",
    "\n",
    "#question_object = { \"1\": { 'question': '¿qué repercusión tuvo?' },\"2\": { 'question': '¿Quién estuvo implicado?' },\"3\": { 'question': '¿Corrupción?' }}\n",
    "#full_text = 'Magistrados de la Sala Tercera de Apelaciones resolvieron revocar las medidas sustitutivas impuestas a Samuel y José Morales, hermano e hijo del expresidente Jimmy Morales, vinculados al caso Botín Registro de la Propiedad.  Los togados beneficiaron a los Morales y 15 acusados anulando las prohibiciones que aún estaban vigentes, por no estar firme la sentencia que los absolvió por distintos delitos. Ahora los sindicados podrán movilizarse en todo el territorio nacional y fuera del país, únicamente se mantienen vigentes las cauciones económicas impuestas por los jueces. Ese fallo obedece a una apelación interpuesta por los abogados de la defensa contra el arresto domiciliario y el resto de restricciones penales impuestas contra sus patrocinados. Una apelación contra la sentencia se resolverá el próximo 22 de septiembre. El caso se relaciona a supuestas plazas fantasma, además de pagos anómalos por servicios y montajes de banquetes durante actividades, así como compra de canastas navideñas, los cuales no fueron realizados por esa entidad.En esta investigación figuraron 25 acusados, únicamente 14 fueron condenados a penas mínimas, el resto fue absuelto por los jueces del Tribunal Décimo Tercero.'\n",
    "\n",
    "peopleList = [ \n",
    "        {\"word_to_search\": \"Jimmy Morales\", \"question_object\": { \"1\": { \"question\": \"¿Corrupción?\" } }, \"full_text\": \"Magistrados de la Sala Tercera de Apelaciones resolvieron revocar las medidas sustitutivas impuestas a Samuel y José Morales, hermano e hijo del expresidente Jimmy Morales, vinculados al caso Botín Registro de la Propiedad.  Los togados beneficiaron a los Morales y 15 acusados anulando las prohibiciones que aún estaban vigentes, por no estar firme la sentencia que los absolvió por distintos delitos. Ahora los sindicados podrán movilizarse en todo el territorio nacional y fuera del país, únicamente se mantienen vigentes las cauciones económicas impuestas por los jueces. Ese fallo obedece a una apelación interpuesta por los abogados de la defensa contra el arresto domiciliario y el resto de restricciones penales impuestas contra sus patrocinados. Una apelación contra la sentencia se resolverá el próximo 22 de septiembre. El caso se relaciona a supuestas plazas fantasma, además de pagos anómalos por servicios y montajes de banquetes durante actividades, así como compra de canastas navideñas, los cuales no fueron realizados por esa entidad.En esta investigación figuraron 25 acusados, únicamente 14 fueron condenados a penas mínimas, el resto fue absuelto por los jueces del Tribunal Décimo Tercero.\" },\n",
    "        {\"word_to_search\": \"Murphy Paiz\", \"question_object\": { \"1\": { \"question\": \"¿Corrupción?\" } }, \"full_text\": \"Magistrados de la Sala Tercera de Apelaciones resolvieron revocar las medidas sustitutivas impuestas a Samuel y José Morales, hermano e hijo del expresidente Jimmy Morales, vinculados al caso Botín Registro de la Propiedad.  Los togados beneficiaron a los Morales y 15 acusados anulando las prohibiciones que aún estaban vigentes, por no estar firme la sentencia que los absolvió por distintos delitos. Ahora los sindicados podrán movilizarse en todo el territorio nacional y fuera del país, únicamente se mantienen vigentes las cauciones económicas impuestas por los jueces. Ese fallo obedece a una apelación interpuesta por los abogados de la defensa contra el arresto domiciliario y el resto de restricciones penales impuestas contra sus patrocinados. Una apelación contra la sentencia se resolverá el próximo 22 de septiembre. El caso se relaciona a supuestas plazas fantasma, además de pagos anómalos por servicios y montajes de banquetes durante actividades, así como compra de canastas navideñas, los cuales no fueron realizados por esa entidad.En esta investigación figuraron 25 acusados, únicamente 14 fueron condenados a penas mínimas, el resto fue absuelto por los jueces del Tribunal Décimo Tercero.\" }\n",
    "]"
   ]
  },
  {
   "cell_type": "code",
   "execution_count": 7,
   "metadata": {},
   "outputs": [],
   "source": [
    "from compilednlptfm import nlp, isGlobalVariableReady\n",
    "\n",
    "#%store -r nlp\n",
    "#%store -r isGlobalVariableReady\n",
    "\n",
    "respuesta = dict()\n",
    "respuesta['status'] = 400\n",
    "\n",
    "if isGlobalVariableReady:\n",
    "    for people in peopleList:\n",
    "        for question_id in people['question_object']:\n",
    "            question_text = people['question_object'][question_id]['question']\n",
    "            question_response = nlp({\n",
    "                'question': question_text,\n",
    "                'context': people['full_text']\n",
    "            })\n",
    "            people['question_object'][question_id]['response'] = question_response\n",
    "    respuesta = dict()\n",
    "    respuesta['status'] = 200\n",
    "    respuesta['data'] = peopleList"
   ]
  },
  {
   "cell_type": "code",
   "execution_count": null,
   "metadata": {
    "tags": [
     "output"
    ]
   },
   "outputs": [],
   "source": [
    "#this cell is tagged as output\n",
    "print(str(respuesta))"
   ]
  }
 ],
 "metadata": {
  "celltoolbar": "Tags",
  "kernelspec": {
   "display_name": "Python 3",
   "language": "python",
   "name": "python3"
  },
  "language_info": {
   "codemirror_mode": {
    "name": "ipython",
    "version": 3
   },
   "file_extension": ".py",
   "mimetype": "text/x-python",
   "name": "python",
   "nbconvert_exporter": "python",
   "pygments_lexer": "ipython3",
   "version": "3.8.8"
  },
  "vscode": {
   "interpreter": {
    "hash": "257006080e833d260a997c02fb943a84f893968567ef79dcf54106ad401e7e3a"
   }
  }
 },
 "nbformat": 4,
 "nbformat_minor": 2
}

{
 "cells": [
  {
   "cell_type": "code",
   "execution_count": 1,
   "id": "a0e0b05b",
   "metadata": {
    "execution": {
     "iopub.execute_input": "2022-08-18T04:21:34.401828Z",
     "iopub.status.busy": "2022-08-18T04:21:34.399818Z",
     "iopub.status.idle": "2022-08-18T04:21:34.414261Z",
     "shell.execute_reply": "2022-08-18T04:21:34.412260Z"
    },
    "papermill": {
     "duration": 0.071342,
     "end_time": "2022-08-18T04:21:34.414261",
     "exception": false,
     "start_time": "2022-08-18T04:21:34.342919",
     "status": "completed"
    },
    "tags": [
     "parameters"
    ]
   },
   "outputs": [],
   "source": [
    "# this cell is tagged 'parameters'\n",
    "word_to_search = 'Jimmy Morales'\n",
    "question_object = {\n",
    "                    \"1\": { 'question': '¿Corrupción?' } \n",
    "                    }"
   ]
  },
  {
   "cell_type": "code",
   "execution_count": 2,
   "id": "0582a37f",
   "metadata": {
    "execution": {
     "iopub.execute_input": "2022-08-18T04:21:34.474417Z",
     "iopub.status.busy": "2022-08-18T04:21:34.473419Z",
     "iopub.status.idle": "2022-08-18T04:21:34.487383Z",
     "shell.execute_reply": "2022-08-18T04:21:34.486372Z"
    },
    "papermill": {
     "duration": 0.037129,
     "end_time": "2022-08-18T04:21:34.487383",
     "exception": false,
     "start_time": "2022-08-18T04:21:34.450254",
     "status": "completed"
    },
    "tags": [
     "injected-parameters"
    ]
   },
   "outputs": [],
   "source": [
    "# Parameters\n",
    "word_to_search = \"Jimmy Morales\"\n",
    "question_object = {\n",
    "    \"1\": {\"question\": \"\\xbfqu\\xe9 repercusi\\xf3n tuvo?\"},\n",
    "    \"2\": {\"question\": \"\\xbfQui\\xe9n estuvo implicado?\"},\n",
    "    \"3\": {\"question\": \"\\xbfCorrupci\\xf3n?\"},\n",
    "}\n"
   ]
  },
  {
   "cell_type": "markdown",
   "id": "de0daded",
   "metadata": {
    "papermill": {
     "duration": 0.016999,
     "end_time": "2022-08-18T04:21:34.522956",
     "exception": false,
     "start_time": "2022-08-18T04:21:34.505957",
     "status": "completed"
    },
    "tags": []
   },
   "source": [
    "### Loguearse a El Periodico"
   ]
  },
  {
   "cell_type": "code",
   "execution_count": 3,
   "id": "47634f1f",
   "metadata": {
    "execution": {
     "iopub.execute_input": "2022-08-18T04:21:34.560278Z",
     "iopub.status.busy": "2022-08-18T04:21:34.559282Z",
     "iopub.status.idle": "2022-08-18T04:21:34.817252Z",
     "shell.execute_reply": "2022-08-18T04:21:34.817252Z"
    },
    "papermill": {
     "duration": 0.277295,
     "end_time": "2022-08-18T04:21:34.817252",
     "exception": false,
     "start_time": "2022-08-18T04:21:34.539957",
     "status": "completed"
    },
    "tags": []
   },
   "outputs": [],
   "source": [
    "import requests\n",
    "from bs4 import BeautifulSoup"
   ]
  },
  {
   "cell_type": "code",
   "execution_count": 4,
   "id": "0ce89ee4",
   "metadata": {
    "execution": {
     "iopub.execute_input": "2022-08-18T04:21:34.859174Z",
     "iopub.status.busy": "2022-08-18T04:21:34.858252Z",
     "iopub.status.idle": "2022-08-18T04:21:35.168703Z",
     "shell.execute_reply": "2022-08-18T04:21:35.166279Z"
    },
    "papermill": {
     "duration": 0.333421,
     "end_time": "2022-08-18T04:21:35.168703",
     "exception": false,
     "start_time": "2022-08-18T04:21:34.835282",
     "status": "completed"
    },
    "tags": []
   },
   "outputs": [],
   "source": [
    "url = 'https://elperiodico.com.gt/politica/justicia/2022/08/12/the-economist-jose-ruben-zamora-ha-hecho-una-cruzada-contra-la-corrupcion-en-guatemala/'\n",
    "r = requests.get(url)"
   ]
  },
  {
   "cell_type": "code",
   "execution_count": 5,
   "id": "70d2bc0f",
   "metadata": {
    "execution": {
     "iopub.execute_input": "2022-08-18T04:21:35.245786Z",
     "iopub.status.busy": "2022-08-18T04:21:35.244792Z",
     "iopub.status.idle": "2022-08-18T04:21:35.257885Z",
     "shell.execute_reply": "2022-08-18T04:21:35.256868Z"
    },
    "papermill": {
     "duration": 0.041315,
     "end_time": "2022-08-18T04:21:35.257885",
     "exception": false,
     "start_time": "2022-08-18T04:21:35.216570",
     "status": "completed"
    },
    "tags": []
   },
   "outputs": [
    {
     "name": "stdout",
     "output_type": "stream",
     "text": [
      "<Response [200]>\n"
     ]
    }
   ],
   "source": [
    "print(r)"
   ]
  },
  {
   "cell_type": "code",
   "execution_count": 6,
   "id": "4d0e17d2",
   "metadata": {
    "execution": {
     "iopub.execute_input": "2022-08-18T04:21:35.304972Z",
     "iopub.status.busy": "2022-08-18T04:21:35.304972Z",
     "iopub.status.idle": "2022-08-18T04:21:35.350967Z",
     "shell.execute_reply": "2022-08-18T04:21:35.349963Z"
    },
    "papermill": {
     "duration": 0.068656,
     "end_time": "2022-08-18T04:21:35.350967",
     "exception": false,
     "start_time": "2022-08-18T04:21:35.282311",
     "status": "completed"
    },
    "tags": []
   },
   "outputs": [],
   "source": [
    "s = BeautifulSoup(r.text, 'lxml')"
   ]
  },
  {
   "cell_type": "code",
   "execution_count": 7,
   "id": "e0d7b5a2",
   "metadata": {
    "execution": {
     "iopub.execute_input": "2022-08-18T04:21:35.390991Z",
     "iopub.status.busy": "2022-08-18T04:21:35.389995Z",
     "iopub.status.idle": "2022-08-18T04:21:35.398701Z",
     "shell.execute_reply": "2022-08-18T04:21:35.398701Z"
    },
    "papermill": {
     "duration": 0.030706,
     "end_time": "2022-08-18T04:21:35.398701",
     "exception": false,
     "start_time": "2022-08-18T04:21:35.367995",
     "status": "completed"
    },
    "tags": []
   },
   "outputs": [],
   "source": [
    "#print(s.prettify())"
   ]
  },
  {
   "cell_type": "code",
   "execution_count": 8,
   "id": "de2d3e1c",
   "metadata": {
    "execution": {
     "iopub.execute_input": "2022-08-18T04:21:35.437285Z",
     "iopub.status.busy": "2022-08-18T04:21:35.436399Z",
     "iopub.status.idle": "2022-08-18T04:21:35.602595Z",
     "shell.execute_reply": "2022-08-18T04:21:35.601617Z"
    },
    "papermill": {
     "duration": 0.186263,
     "end_time": "2022-08-18T04:21:35.602595",
     "exception": false,
     "start_time": "2022-08-18T04:21:35.416332",
     "status": "completed"
    },
    "tags": []
   },
   "outputs": [],
   "source": [
    "from selenium import webdriver\n",
    "from selenium.webdriver.common.by import By as By"
   ]
  },
  {
   "cell_type": "code",
   "execution_count": 9,
   "id": "3cfec210",
   "metadata": {
    "execution": {
     "iopub.execute_input": "2022-08-18T04:21:35.678060Z",
     "iopub.status.busy": "2022-08-18T04:21:35.677060Z",
     "iopub.status.idle": "2022-08-18T04:21:40.110380Z",
     "shell.execute_reply": "2022-08-18T04:21:40.109377Z"
    },
    "papermill": {
     "duration": 4.477445,
     "end_time": "2022-08-18T04:21:40.110380",
     "exception": false,
     "start_time": "2022-08-18T04:21:35.632935",
     "status": "completed"
    },
    "tags": []
   },
   "outputs": [
    {
     "name": "stdout",
     "output_type": "stream",
     "text": [
      "3.141.0\n",
      "2.9.0\n",
      "2.9.1\n"
     ]
    }
   ],
   "source": [
    "import selenium, keras, tensorflow\n",
    "print(selenium.__version__)\n",
    "print(keras.__version__)\n",
    "print(tensorflow.__version__)\n",
    "## pip install selenium==3.141.0\n",
    "## pip install keras==2.9.0\n",
    "## pip install tensorflow==2.9.1\n",
    "## pip install chromedriver-binary\n",
    "## pip install -q transformers\n",
    "## conda install pytorch torchvision torchaudio cudatoolkit=11.3 -c pytorch\n"
   ]
  },
  {
   "cell_type": "code",
   "execution_count": 10,
   "id": "20d88f8d",
   "metadata": {
    "execution": {
     "iopub.execute_input": "2022-08-18T04:21:40.152310Z",
     "iopub.status.busy": "2022-08-18T04:21:40.152310Z",
     "iopub.status.idle": "2022-08-18T04:21:42.064745Z",
     "shell.execute_reply": "2022-08-18T04:21:42.063747Z"
    },
    "papermill": {
     "duration": 1.936435,
     "end_time": "2022-08-18T04:21:42.064745",
     "exception": false,
     "start_time": "2022-08-18T04:21:40.128310",
     "status": "completed"
    },
    "tags": []
   },
   "outputs": [],
   "source": [
    "driver = webdriver.Chrome(executable_path='./chromedriver')"
   ]
  },
  {
   "cell_type": "code",
   "execution_count": 11,
   "id": "0a9049f7",
   "metadata": {
    "execution": {
     "iopub.execute_input": "2022-08-18T04:21:42.125639Z",
     "iopub.status.busy": "2022-08-18T04:21:42.124634Z",
     "iopub.status.idle": "2022-08-18T04:21:45.606446Z",
     "shell.execute_reply": "2022-08-18T04:21:45.606446Z"
    },
    "papermill": {
     "duration": 3.515086,
     "end_time": "2022-08-18T04:21:45.607456",
     "exception": false,
     "start_time": "2022-08-18T04:21:42.092370",
     "status": "completed"
    },
    "tags": []
   },
   "outputs": [],
   "source": [
    "driver.get(url)"
   ]
  },
  {
   "cell_type": "code",
   "execution_count": 12,
   "id": "be5ff4e8",
   "metadata": {
    "execution": {
     "iopub.execute_input": "2022-08-18T04:21:45.669964Z",
     "iopub.status.busy": "2022-08-18T04:21:45.668968Z",
     "iopub.status.idle": "2022-08-18T04:21:45.781544Z",
     "shell.execute_reply": "2022-08-18T04:21:45.779532Z"
    },
    "papermill": {
     "duration": 0.15515,
     "end_time": "2022-08-18T04:21:45.782534",
     "exception": false,
     "start_time": "2022-08-18T04:21:45.627384",
     "status": "completed"
    },
    "tags": []
   },
   "outputs": [],
   "source": [
    "try:\n",
    "    botonCerrarNotificacion = driver.find_element_by_xpath('//*[@id=\"onesignal-slidedown-cancel-button\"]' )\n",
    "    botonCerrarNotificacion.click()\n",
    "except:\n",
    "    print('No hay notificacion')"
   ]
  },
  {
   "cell_type": "code",
   "execution_count": 13,
   "id": "f2f70abf",
   "metadata": {
    "execution": {
     "iopub.execute_input": "2022-08-18T04:21:45.833742Z",
     "iopub.status.busy": "2022-08-18T04:21:45.833742Z",
     "iopub.status.idle": "2022-08-18T04:21:47.523365Z",
     "shell.execute_reply": "2022-08-18T04:21:47.524366Z"
    },
    "papermill": {
     "duration": 1.721662,
     "end_time": "2022-08-18T04:21:47.525364",
     "exception": false,
     "start_time": "2022-08-18T04:21:45.803702",
     "status": "completed"
    },
    "tags": []
   },
   "outputs": [],
   "source": [
    "button_login = driver.find_element_by_xpath('//*[@id=\"userbox\"]/nav/a[2]/i')\n",
    "button_login.click()"
   ]
  },
  {
   "cell_type": "code",
   "execution_count": 14,
   "id": "f7918a58",
   "metadata": {
    "execution": {
     "iopub.execute_input": "2022-08-18T04:21:47.690701Z",
     "iopub.status.busy": "2022-08-18T04:21:47.689701Z",
     "iopub.status.idle": "2022-08-18T04:21:53.459329Z",
     "shell.execute_reply": "2022-08-18T04:21:53.461330Z"
    },
    "papermill": {
     "duration": 5.861761,
     "end_time": "2022-08-18T04:21:53.462329",
     "exception": false,
     "start_time": "2022-08-18T04:21:47.600568",
     "status": "completed"
    },
    "tags": []
   },
   "outputs": [],
   "source": [
    "# si necesita ingresar usuario y contraseña para ver mas articiulos\n",
    "user_name = driver.find_element_by_xpath('//*[@id=\"user_login\"]')\n",
    "user_password = driver.find_element_by_xpath('//*[@id=\"user_pass\"]')\n",
    "button_accept = driver.find_element_by_xpath('//*[@id=\"wp-submit\"]')\n",
    "user_name.clear()\n",
    "user_password.clear()\n",
    "user_name.send_keys('yoentroalau@gmail.com')\n",
    "user_password.send_keys('A@@@1234')\n",
    "button_accept.click()"
   ]
  },
  {
   "cell_type": "code",
   "execution_count": 15,
   "id": "ac4fd1e3",
   "metadata": {
    "execution": {
     "iopub.execute_input": "2022-08-18T04:21:53.622237Z",
     "iopub.status.busy": "2022-08-18T04:21:53.619237Z",
     "iopub.status.idle": "2022-08-18T04:21:57.350557Z",
     "shell.execute_reply": "2022-08-18T04:21:57.351560Z"
    },
    "papermill": {
     "duration": 3.821517,
     "end_time": "2022-08-18T04:21:57.351560",
     "exception": false,
     "start_time": "2022-08-18T04:21:53.530043",
     "status": "completed"
    },
    "tags": []
   },
   "outputs": [],
   "source": [
    "driver.get(f'https://elperiodico.com.gt/?s={word_to_search}&Submit=')"
   ]
  },
  {
   "cell_type": "code",
   "execution_count": 16,
   "id": "a9d198a0",
   "metadata": {
    "execution": {
     "iopub.execute_input": "2022-08-18T04:21:57.428420Z",
     "iopub.status.busy": "2022-08-18T04:21:57.427415Z",
     "iopub.status.idle": "2022-08-18T04:22:01.476322Z",
     "shell.execute_reply": "2022-08-18T04:22:01.474324Z"
    },
    "papermill": {
     "duration": 4.092013,
     "end_time": "2022-08-18T04:22:01.476322",
     "exception": false,
     "start_time": "2022-08-18T04:21:57.384309",
     "status": "completed"
    },
    "tags": []
   },
   "outputs": [],
   "source": [
    "try:\n",
    "    entradas_anteriores = driver.find_element_by_class_name('nav-previous')\n",
    "    entradas_anteriores.click()\n",
    "except:\n",
    "    print('No hay entradas anteriores')\n"
   ]
  },
  {
   "cell_type": "code",
   "execution_count": 17,
   "id": "3be92983",
   "metadata": {
    "execution": {
     "iopub.execute_input": "2022-08-18T04:22:01.632261Z",
     "iopub.status.busy": "2022-08-18T04:22:01.630264Z",
     "iopub.status.idle": "2022-08-18T04:22:04.052481Z",
     "shell.execute_reply": "2022-08-18T04:22:04.052481Z"
    },
    "papermill": {
     "duration": 2.502404,
     "end_time": "2022-08-18T04:22:04.053481",
     "exception": false,
     "start_time": "2022-08-18T04:22:01.551077",
     "status": "completed"
    },
    "tags": []
   },
   "outputs": [],
   "source": [
    "link_articulo = driver.find_element_by_xpath('//*[@id=\"seccion\"]/div[1]/div/a[1]')\n",
    "link_articulo.click()"
   ]
  },
  {
   "cell_type": "code",
   "execution_count": 18,
   "id": "adfbea51",
   "metadata": {
    "execution": {
     "iopub.execute_input": "2022-08-18T04:22:04.153097Z",
     "iopub.status.busy": "2022-08-18T04:22:04.151099Z",
     "iopub.status.idle": "2022-08-18T04:22:04.349391Z",
     "shell.execute_reply": "2022-08-18T04:22:04.350390Z"
    },
    "papermill": {
     "duration": 0.260909,
     "end_time": "2022-08-18T04:22:04.350390",
     "exception": false,
     "start_time": "2022-08-18T04:22:04.089481",
     "status": "completed"
    },
    "tags": []
   },
   "outputs": [
    {
     "name": "stdout",
     "output_type": "stream",
     "text": [
      "Sala favorece a familiares del expresidente Jimmy Morales\n",
      "['08-09-21']\n"
     ]
    }
   ],
   "source": [
    "import re\n",
    "title = driver.find_element_by_class_name('post-title-big').text\n",
    "print(title)\n",
    "date  = driver.find_element_by_xpath('//*[@id=\"space-meta\"]').text\n",
    "formatted_date = re.findall(\"\\d\\d-\\d\\d-\\d\\d\", date)\n",
    "print(formatted_date)\n",
    "\n",
    "articles_body = driver.find_element_by_xpath('//div[@class=\"flexible-article-content\"]')\n",
    "\n"
   ]
  },
  {
   "cell_type": "code",
   "execution_count": 19,
   "id": "c5016bae",
   "metadata": {
    "execution": {
     "iopub.execute_input": "2022-08-18T04:22:04.415389Z",
     "iopub.status.busy": "2022-08-18T04:22:04.413393Z",
     "iopub.status.idle": "2022-08-18T04:22:04.620557Z",
     "shell.execute_reply": "2022-08-18T04:22:04.623546Z"
    },
    "papermill": {
     "duration": 0.248158,
     "end_time": "2022-08-18T04:22:04.623546",
     "exception": false,
     "start_time": "2022-08-18T04:22:04.375388",
     "status": "completed"
    },
    "tags": []
   },
   "outputs": [
    {
     "name": "stdout",
     "output_type": "stream",
     "text": [
      "Magistrados de la Sala Tercera de Apelaciones resolvieron revocar las medidas sustitutivas impuestas a Samuel y José Morales, hermano e hijo del expresidente Jimmy Morales, vinculados al caso Botín Registro de la Propiedad. \n",
      "Los togados beneficiaron a los Morales y 15 acusados anulando las prohibiciones que aún estaban vigentes, por no estar firme la sentencia que los absolvió por distintos delitos. Ahora los sindicados podrán movilizarse en todo el territorio nacional y fuera del país, únicamente se mantienen vigentes las cauciones económicas impuestas por los jueces. \n",
      "Ese fallo obedece a una apelación interpuesta por los abogados de la defensa contra el arresto domiciliario y el resto de restricciones penales impuestas contra sus patrocinados. Una apelación contra la sentencia se resolverá el próximo 22 de septiembre. \n"
     ]
    },
    {
     "name": "stdout",
     "output_type": "stream",
     "text": [
      "El caso se relaciona a supuestas plazas fantasma, además de pagos anómalos por servicios y montajes de banquetes durante actividades, así como compra de canastas navideñas, los cuales no fueron realizados por esa entidad.\n",
      "En esta investigación figuraron 25 acusados, únicamente 14 fueron condenados a penas mínimas, el resto fue absuelto por los jueces del Tribunal Décimo Tercero.\n"
     ]
    }
   ],
   "source": [
    "from selenium.webdriver.common.by import By\n",
    "\n",
    "articles = articles_body.find_elements(By.TAG_NAME, 'p')\n",
    "\n",
    "full_text = ''\n",
    "\n",
    "for article in articles:\n",
    "    print(article.text)\n",
    "    full_text = full_text + article.text + ' '"
   ]
  },
  {
   "cell_type": "code",
   "execution_count": 20,
   "id": "b38b4f64",
   "metadata": {
    "execution": {
     "iopub.execute_input": "2022-08-18T04:22:04.784713Z",
     "iopub.status.busy": "2022-08-18T04:22:04.783705Z",
     "iopub.status.idle": "2022-08-18T04:22:07.220579Z",
     "shell.execute_reply": "2022-08-18T04:22:07.221579Z"
    },
    "papermill": {
     "duration": 2.497622,
     "end_time": "2022-08-18T04:22:07.221579",
     "exception": false,
     "start_time": "2022-08-18T04:22:04.723957",
     "status": "completed"
    },
    "tags": []
   },
   "outputs": [],
   "source": [
    "driver.close()"
   ]
  },
  {
   "cell_type": "code",
   "execution_count": 21,
   "id": "15356103",
   "metadata": {
    "execution": {
     "iopub.execute_input": "2022-08-18T04:22:07.319303Z",
     "iopub.status.busy": "2022-08-18T04:22:07.318301Z",
     "iopub.status.idle": "2022-08-18T04:22:13.103614Z",
     "shell.execute_reply": "2022-08-18T04:22:13.102617Z"
    },
    "papermill": {
     "duration": 5.831308,
     "end_time": "2022-08-18T04:22:13.104614",
     "exception": false,
     "start_time": "2022-08-18T04:22:07.273306",
     "status": "completed"
    },
    "tags": []
   },
   "outputs": [
    {
     "name": "stderr",
     "output_type": "stream",
     "text": [
      "C:\\Users\\miguel\\anaconda3\\lib\\site-packages\\torchaudio\\backend\\utils.py:62: UserWarning: No audio backend is available.\n",
      "  warnings.warn(\"No audio backend is available.\")\n"
     ]
    }
   ],
   "source": [
    "from transformers import *\n",
    "from tensorflow import keras"
   ]
  },
  {
   "cell_type": "code",
   "execution_count": 22,
   "id": "cf8a40b8",
   "metadata": {
    "execution": {
     "iopub.execute_input": "2022-08-18T04:22:13.193199Z",
     "iopub.status.busy": "2022-08-18T04:22:13.192200Z",
     "iopub.status.idle": "2022-08-18T04:22:19.076603Z",
     "shell.execute_reply": "2022-08-18T04:22:19.075605Z"
    },
    "papermill": {
     "duration": 5.933905,
     "end_time": "2022-08-18T04:22:19.077604",
     "exception": false,
     "start_time": "2022-08-18T04:22:13.143699",
     "status": "completed"
    },
    "tags": []
   },
   "outputs": [
    {
     "name": "stderr",
     "output_type": "stream",
     "text": [
      "loading configuration file https://huggingface.co/mrm8488/distill-bert-base-spanish-wwm-cased-finetuned-spa-squad2-es/resolve/main/config.json from cache at C:\\Users\\miguel/.cache\\huggingface\\transformers\\17330f67d8c327c0b1699be552404022f63be5db79858b26484fc847da416eb9.2e4532ea7d3ba93d791168876c978107ea0cba47d2b0736de7c9139e9670eff4\n"
     ]
    },
    {
     "name": "stderr",
     "output_type": "stream",
     "text": [
      "Model config BertConfig {\n",
      "  \"_name_or_path\": \"mrm8488/distill-bert-base-spanish-wwm-cased-finetuned-spa-squad2-es\",\n",
      "  \"architectures\": [\n",
      "    \"BertForQuestionAnswering\"\n",
      "  ],\n",
      "  \"attention_probs_dropout_prob\": 0.1,\n",
      "  \"classifier_dropout\": null,\n",
      "  \"hidden_act\": \"gelu\",\n",
      "  \"hidden_dropout_prob\": 0.1,\n",
      "  \"hidden_size\": 768,\n",
      "  \"initializer_range\": 0.02,\n",
      "  \"intermediate_size\": 3072,\n",
      "  \"layer_norm_eps\": 1e-12,\n",
      "  \"max_position_embeddings\": 512,\n",
      "  \"model_type\": \"bert\",\n",
      "  \"num_attention_heads\": 12,\n",
      "  \"num_hidden_layers\": 12,\n",
      "  \"output_past\": true,\n",
      "  \"pad_token_id\": 1,\n",
      "  \"position_embedding_type\": \"absolute\",\n",
      "  \"transformers_version\": \"4.21.1\",\n",
      "  \"type_vocab_size\": 2,\n",
      "  \"use_cache\": true,\n",
      "  \"vocab_size\": 31002\n",
      "}\n",
      "\n"
     ]
    },
    {
     "name": "stderr",
     "output_type": "stream",
     "text": [
      "loading file https://huggingface.co/mrm8488/distill-bert-base-spanish-wwm-cased-finetuned-spa-squad2-es/resolve/main/vocab.txt from cache at C:\\Users\\miguel/.cache\\huggingface\\transformers\\2c511a62e569bb7e3623cdadba0823aa6ac3953d13dc7401f40a47794cea3079.dafbd6e6622cfaafea54bfe717b14fcacdaa069149af8fae4086afa5a9629ec3\n"
     ]
    },
    {
     "name": "stderr",
     "output_type": "stream",
     "text": [
      "loading file https://huggingface.co/mrm8488/distill-bert-base-spanish-wwm-cased-finetuned-spa-squad2-es/resolve/main/tokenizer.json from cache at None\n"
     ]
    },
    {
     "name": "stderr",
     "output_type": "stream",
     "text": [
      "loading file https://huggingface.co/mrm8488/distill-bert-base-spanish-wwm-cased-finetuned-spa-squad2-es/resolve/main/added_tokens.json from cache at None\n"
     ]
    },
    {
     "name": "stderr",
     "output_type": "stream",
     "text": [
      "loading file https://huggingface.co/mrm8488/distill-bert-base-spanish-wwm-cased-finetuned-spa-squad2-es/resolve/main/special_tokens_map.json from cache at C:\\Users\\miguel/.cache\\huggingface\\transformers\\9ee3712830b330cf2407b46bba34b1ca9dbeab6c887b79991d4053ca40501c8f.dd8bd9bfd3664b530ea4e645105f557769387b3da9f79bdb55ed556bdd80611d\n"
     ]
    },
    {
     "name": "stderr",
     "output_type": "stream",
     "text": [
      "loading file https://huggingface.co/mrm8488/distill-bert-base-spanish-wwm-cased-finetuned-spa-squad2-es/resolve/main/tokenizer_config.json from cache at C:\\Users\\miguel/.cache\\huggingface\\transformers\\4d0cfa842922c935f9584d98c1de673525620c32f5749db976f4dd568d90bc76.f57c45f436182a8fb3a56f7b1c341ed2943046fed9922b6963a46c869a9196aa\n"
     ]
    },
    {
     "name": "stderr",
     "output_type": "stream",
     "text": [
      "loading configuration file https://huggingface.co/mrm8488/distill-bert-base-spanish-wwm-cased-finetuned-spa-squad2-es/resolve/main/config.json from cache at C:\\Users\\miguel/.cache\\huggingface\\transformers\\17330f67d8c327c0b1699be552404022f63be5db79858b26484fc847da416eb9.2e4532ea7d3ba93d791168876c978107ea0cba47d2b0736de7c9139e9670eff4\n"
     ]
    },
    {
     "name": "stderr",
     "output_type": "stream",
     "text": [
      "Model config BertConfig {\n",
      "  \"_name_or_path\": \"mrm8488/distill-bert-base-spanish-wwm-cased-finetuned-spa-squad2-es\",\n",
      "  \"architectures\": [\n",
      "    \"BertForQuestionAnswering\"\n",
      "  ],\n",
      "  \"attention_probs_dropout_prob\": 0.1,\n",
      "  \"classifier_dropout\": null,\n",
      "  \"hidden_act\": \"gelu\",\n",
      "  \"hidden_dropout_prob\": 0.1,\n",
      "  \"hidden_size\": 768,\n",
      "  \"initializer_range\": 0.02,\n",
      "  \"intermediate_size\": 3072,\n",
      "  \"layer_norm_eps\": 1e-12,\n",
      "  \"max_position_embeddings\": 512,\n",
      "  \"model_type\": \"bert\",\n",
      "  \"num_attention_heads\": 12,\n",
      "  \"num_hidden_layers\": 12,\n",
      "  \"output_past\": true,\n",
      "  \"pad_token_id\": 1,\n",
      "  \"position_embedding_type\": \"absolute\",\n",
      "  \"transformers_version\": \"4.21.1\",\n",
      "  \"type_vocab_size\": 2,\n",
      "  \"use_cache\": true,\n",
      "  \"vocab_size\": 31002\n",
      "}\n",
      "\n"
     ]
    },
    {
     "name": "stderr",
     "output_type": "stream",
     "text": [
      "loading configuration file https://huggingface.co/mrm8488/distill-bert-base-spanish-wwm-cased-finetuned-spa-squad2-es/resolve/main/config.json from cache at C:\\Users\\miguel/.cache\\huggingface\\transformers\\17330f67d8c327c0b1699be552404022f63be5db79858b26484fc847da416eb9.2e4532ea7d3ba93d791168876c978107ea0cba47d2b0736de7c9139e9670eff4\n"
     ]
    },
    {
     "name": "stderr",
     "output_type": "stream",
     "text": [
      "Model config BertConfig {\n",
      "  \"_name_or_path\": \"mrm8488/distill-bert-base-spanish-wwm-cased-finetuned-spa-squad2-es\",\n",
      "  \"architectures\": [\n",
      "    \"BertForQuestionAnswering\"\n",
      "  ],\n",
      "  \"attention_probs_dropout_prob\": 0.1,\n",
      "  \"classifier_dropout\": null,\n",
      "  \"hidden_act\": \"gelu\",\n",
      "  \"hidden_dropout_prob\": 0.1,\n",
      "  \"hidden_size\": 768,\n",
      "  \"initializer_range\": 0.02,\n",
      "  \"intermediate_size\": 3072,\n",
      "  \"layer_norm_eps\": 1e-12,\n",
      "  \"max_position_embeddings\": 512,\n",
      "  \"model_type\": \"bert\",\n",
      "  \"num_attention_heads\": 12,\n",
      "  \"num_hidden_layers\": 12,\n",
      "  \"output_past\": true,\n",
      "  \"pad_token_id\": 1,\n",
      "  \"position_embedding_type\": \"absolute\",\n",
      "  \"transformers_version\": \"4.21.1\",\n",
      "  \"type_vocab_size\": 2,\n",
      "  \"use_cache\": true,\n",
      "  \"vocab_size\": 31002\n",
      "}\n",
      "\n"
     ]
    },
    {
     "name": "stderr",
     "output_type": "stream",
     "text": [
      "loading configuration file https://huggingface.co/mrm8488/distill-bert-base-spanish-wwm-cased-finetuned-spa-squad2-es/resolve/main/config.json from cache at C:\\Users\\miguel/.cache\\huggingface\\transformers\\17330f67d8c327c0b1699be552404022f63be5db79858b26484fc847da416eb9.2e4532ea7d3ba93d791168876c978107ea0cba47d2b0736de7c9139e9670eff4\n"
     ]
    },
    {
     "name": "stderr",
     "output_type": "stream",
     "text": [
      "Model config BertConfig {\n",
      "  \"_name_or_path\": \"mrm8488/distill-bert-base-spanish-wwm-cased-finetuned-spa-squad2-es\",\n",
      "  \"architectures\": [\n",
      "    \"BertForQuestionAnswering\"\n",
      "  ],\n",
      "  \"attention_probs_dropout_prob\": 0.1,\n",
      "  \"classifier_dropout\": null,\n",
      "  \"hidden_act\": \"gelu\",\n",
      "  \"hidden_dropout_prob\": 0.1,\n",
      "  \"hidden_size\": 768,\n",
      "  \"initializer_range\": 0.02,\n",
      "  \"intermediate_size\": 3072,\n",
      "  \"layer_norm_eps\": 1e-12,\n",
      "  \"max_position_embeddings\": 512,\n",
      "  \"model_type\": \"bert\",\n",
      "  \"num_attention_heads\": 12,\n",
      "  \"num_hidden_layers\": 12,\n",
      "  \"output_past\": true,\n",
      "  \"pad_token_id\": 1,\n",
      "  \"position_embedding_type\": \"absolute\",\n",
      "  \"transformers_version\": \"4.21.1\",\n",
      "  \"type_vocab_size\": 2,\n",
      "  \"use_cache\": true,\n",
      "  \"vocab_size\": 31002\n",
      "}\n",
      "\n"
     ]
    },
    {
     "name": "stderr",
     "output_type": "stream",
     "text": [
      "loading weights file https://huggingface.co/mrm8488/distill-bert-base-spanish-wwm-cased-finetuned-spa-squad2-es/resolve/main/pytorch_model.bin from cache at C:\\Users\\miguel/.cache\\huggingface\\transformers\\7966a0423b1c913c4e68d5399e17e4296eb2a7445564ae9ec574ae547efbe8bd.14d8bb83a1f0f787ccc04af18ea2125ec4a26e94474747d8b5834fb315e2caa4\n"
     ]
    },
    {
     "name": "stderr",
     "output_type": "stream",
     "text": [
      "All model checkpoint weights were used when initializing BertForQuestionAnswering.\n",
      "\n"
     ]
    },
    {
     "name": "stderr",
     "output_type": "stream",
     "text": [
      "All the weights of BertForQuestionAnswering were initialized from the model checkpoint at mrm8488/distill-bert-base-spanish-wwm-cased-finetuned-spa-squad2-es.\n",
      "If your task is similar to the task the model of the checkpoint was trained on, you can already use BertForQuestionAnswering for predictions without further training.\n"
     ]
    }
   ],
   "source": [
    "from transformers import AutoTokenizer, AutoModelForQuestionAnswering\n",
    "\n",
    "tokenizer = AutoTokenizer.from_pretrained(\"mrm8488/distill-bert-base-spanish-wwm-cased-finetuned-spa-squad2-es\")\n",
    "\n",
    "model = AutoModelForQuestionAnswering.from_pretrained(\"mrm8488/distill-bert-base-spanish-wwm-cased-finetuned-spa-squad2-es\")"
   ]
  },
  {
   "cell_type": "code",
   "execution_count": 23,
   "id": "31eadb4b",
   "metadata": {
    "execution": {
     "iopub.execute_input": "2022-08-18T04:22:19.221448Z",
     "iopub.status.busy": "2022-08-18T04:22:19.220448Z",
     "iopub.status.idle": "2022-08-18T04:22:19.235448Z",
     "shell.execute_reply": "2022-08-18T04:22:19.236453Z"
    },
    "papermill": {
     "duration": 0.11685,
     "end_time": "2022-08-18T04:22:19.236453",
     "exception": false,
     "start_time": "2022-08-18T04:22:19.119603",
     "status": "completed"
    },
    "tags": []
   },
   "outputs": [],
   "source": [
    "#generator = pipeline('text-generation', model='gpt2')"
   ]
  },
  {
   "cell_type": "code",
   "execution_count": 24,
   "id": "2b5d3f68",
   "metadata": {
    "execution": {
     "iopub.execute_input": "2022-08-18T04:22:19.303580Z",
     "iopub.status.busy": "2022-08-18T04:22:19.303580Z",
     "iopub.status.idle": "2022-08-18T04:22:24.211295Z",
     "shell.execute_reply": "2022-08-18T04:22:24.211295Z"
    },
    "papermill": {
     "duration": 4.940848,
     "end_time": "2022-08-18T04:22:24.211295",
     "exception": false,
     "start_time": "2022-08-18T04:22:19.270447",
     "status": "completed"
    },
    "tags": []
   },
   "outputs": [
    {
     "name": "stderr",
     "output_type": "stream",
     "text": [
      "loading configuration file https://huggingface.co/mrm8488/distill-bert-base-spanish-wwm-cased-finetuned-spa-squad2-es/resolve/main/config.json from cache at C:\\Users\\miguel/.cache\\huggingface\\transformers\\17330f67d8c327c0b1699be552404022f63be5db79858b26484fc847da416eb9.2e4532ea7d3ba93d791168876c978107ea0cba47d2b0736de7c9139e9670eff4\n"
     ]
    },
    {
     "name": "stderr",
     "output_type": "stream",
     "text": [
      "Model config BertConfig {\n",
      "  \"_name_or_path\": \"mrm8488/distill-bert-base-spanish-wwm-cased-finetuned-spa-squad2-es\",\n",
      "  \"architectures\": [\n",
      "    \"BertForQuestionAnswering\"\n",
      "  ],\n",
      "  \"attention_probs_dropout_prob\": 0.1,\n",
      "  \"classifier_dropout\": null,\n",
      "  \"hidden_act\": \"gelu\",\n",
      "  \"hidden_dropout_prob\": 0.1,\n",
      "  \"hidden_size\": 768,\n",
      "  \"initializer_range\": 0.02,\n",
      "  \"intermediate_size\": 3072,\n",
      "  \"layer_norm_eps\": 1e-12,\n",
      "  \"max_position_embeddings\": 512,\n",
      "  \"model_type\": \"bert\",\n",
      "  \"num_attention_heads\": 12,\n",
      "  \"num_hidden_layers\": 12,\n",
      "  \"output_past\": true,\n",
      "  \"pad_token_id\": 1,\n",
      "  \"position_embedding_type\": \"absolute\",\n",
      "  \"transformers_version\": \"4.21.1\",\n",
      "  \"type_vocab_size\": 2,\n",
      "  \"use_cache\": true,\n",
      "  \"vocab_size\": 31002\n",
      "}\n",
      "\n"
     ]
    },
    {
     "name": "stderr",
     "output_type": "stream",
     "text": [
      "loading configuration file https://huggingface.co/mrm8488/distill-bert-base-spanish-wwm-cased-finetuned-spa-squad2-es/resolve/main/config.json from cache at C:\\Users\\miguel/.cache\\huggingface\\transformers\\17330f67d8c327c0b1699be552404022f63be5db79858b26484fc847da416eb9.2e4532ea7d3ba93d791168876c978107ea0cba47d2b0736de7c9139e9670eff4\n"
     ]
    },
    {
     "name": "stderr",
     "output_type": "stream",
     "text": [
      "Model config BertConfig {\n",
      "  \"_name_or_path\": \"mrm8488/distill-bert-base-spanish-wwm-cased-finetuned-spa-squad2-es\",\n",
      "  \"architectures\": [\n",
      "    \"BertForQuestionAnswering\"\n",
      "  ],\n",
      "  \"attention_probs_dropout_prob\": 0.1,\n",
      "  \"classifier_dropout\": null,\n",
      "  \"hidden_act\": \"gelu\",\n",
      "  \"hidden_dropout_prob\": 0.1,\n",
      "  \"hidden_size\": 768,\n",
      "  \"initializer_range\": 0.02,\n",
      "  \"intermediate_size\": 3072,\n",
      "  \"layer_norm_eps\": 1e-12,\n",
      "  \"max_position_embeddings\": 512,\n",
      "  \"model_type\": \"bert\",\n",
      "  \"num_attention_heads\": 12,\n",
      "  \"num_hidden_layers\": 12,\n",
      "  \"output_past\": true,\n",
      "  \"pad_token_id\": 1,\n",
      "  \"position_embedding_type\": \"absolute\",\n",
      "  \"transformers_version\": \"4.21.1\",\n",
      "  \"type_vocab_size\": 2,\n",
      "  \"use_cache\": true,\n",
      "  \"vocab_size\": 31002\n",
      "}\n",
      "\n"
     ]
    },
    {
     "name": "stderr",
     "output_type": "stream",
     "text": [
      "loading weights file https://huggingface.co/mrm8488/distill-bert-base-spanish-wwm-cased-finetuned-spa-squad2-es/resolve/main/pytorch_model.bin from cache at C:\\Users\\miguel/.cache\\huggingface\\transformers\\7966a0423b1c913c4e68d5399e17e4296eb2a7445564ae9ec574ae547efbe8bd.14d8bb83a1f0f787ccc04af18ea2125ec4a26e94474747d8b5834fb315e2caa4\n"
     ]
    },
    {
     "name": "stderr",
     "output_type": "stream",
     "text": [
      "All model checkpoint weights were used when initializing BertForQuestionAnswering.\n",
      "\n"
     ]
    },
    {
     "name": "stderr",
     "output_type": "stream",
     "text": [
      "All the weights of BertForQuestionAnswering were initialized from the model checkpoint at mrm8488/distill-bert-base-spanish-wwm-cased-finetuned-spa-squad2-es.\n",
      "If your task is similar to the task the model of the checkpoint was trained on, you can already use BertForQuestionAnswering for predictions without further training.\n"
     ]
    },
    {
     "name": "stderr",
     "output_type": "stream",
     "text": [
      "loading configuration file https://huggingface.co/mrm8488/distill-bert-base-spanish-wwm-cased-finetuned-spa-squad2-es/resolve/main/config.json from cache at C:\\Users\\miguel/.cache\\huggingface\\transformers\\17330f67d8c327c0b1699be552404022f63be5db79858b26484fc847da416eb9.2e4532ea7d3ba93d791168876c978107ea0cba47d2b0736de7c9139e9670eff4\n"
     ]
    },
    {
     "name": "stderr",
     "output_type": "stream",
     "text": [
      "Model config BertConfig {\n",
      "  \"_name_or_path\": \"mrm8488/distill-bert-base-spanish-wwm-cased-finetuned-spa-squad2-es\",\n",
      "  \"architectures\": [\n",
      "    \"BertForQuestionAnswering\"\n",
      "  ],\n",
      "  \"attention_probs_dropout_prob\": 0.1,\n",
      "  \"classifier_dropout\": null,\n",
      "  \"hidden_act\": \"gelu\",\n",
      "  \"hidden_dropout_prob\": 0.1,\n",
      "  \"hidden_size\": 768,\n",
      "  \"initializer_range\": 0.02,\n",
      "  \"intermediate_size\": 3072,\n",
      "  \"layer_norm_eps\": 1e-12,\n",
      "  \"max_position_embeddings\": 512,\n",
      "  \"model_type\": \"bert\",\n",
      "  \"num_attention_heads\": 12,\n",
      "  \"num_hidden_layers\": 12,\n",
      "  \"output_past\": true,\n",
      "  \"pad_token_id\": 1,\n",
      "  \"position_embedding_type\": \"absolute\",\n",
      "  \"transformers_version\": \"4.21.1\",\n",
      "  \"type_vocab_size\": 2,\n",
      "  \"use_cache\": true,\n",
      "  \"vocab_size\": 31002\n",
      "}\n",
      "\n"
     ]
    },
    {
     "name": "stderr",
     "output_type": "stream",
     "text": [
      "loading file https://huggingface.co/mrm8488/distill-bert-base-spanish-wwm-cased-finetuned-spa-squad2-es/resolve/main/vocab.txt from cache at C:\\Users\\miguel/.cache\\huggingface\\transformers\\2c511a62e569bb7e3623cdadba0823aa6ac3953d13dc7401f40a47794cea3079.dafbd6e6622cfaafea54bfe717b14fcacdaa069149af8fae4086afa5a9629ec3\n"
     ]
    },
    {
     "name": "stderr",
     "output_type": "stream",
     "text": [
      "loading file https://huggingface.co/mrm8488/distill-bert-base-spanish-wwm-cased-finetuned-spa-squad2-es/resolve/main/added_tokens.json from cache at None\n"
     ]
    },
    {
     "name": "stderr",
     "output_type": "stream",
     "text": [
      "loading file https://huggingface.co/mrm8488/distill-bert-base-spanish-wwm-cased-finetuned-spa-squad2-es/resolve/main/special_tokens_map.json from cache at C:\\Users\\miguel/.cache\\huggingface\\transformers\\9ee3712830b330cf2407b46bba34b1ca9dbeab6c887b79991d4053ca40501c8f.dd8bd9bfd3664b530ea4e645105f557769387b3da9f79bdb55ed556bdd80611d\n"
     ]
    },
    {
     "name": "stderr",
     "output_type": "stream",
     "text": [
      "loading file https://huggingface.co/mrm8488/distill-bert-base-spanish-wwm-cased-finetuned-spa-squad2-es/resolve/main/tokenizer_config.json from cache at C:\\Users\\miguel/.cache\\huggingface\\transformers\\4d0cfa842922c935f9584d98c1de673525620c32f5749db976f4dd568d90bc76.f57c45f436182a8fb3a56f7b1c341ed2943046fed9922b6963a46c869a9196aa\n"
     ]
    },
    {
     "name": "stderr",
     "output_type": "stream",
     "text": [
      "loading configuration file https://huggingface.co/mrm8488/distill-bert-base-spanish-wwm-cased-finetuned-spa-squad2-es/resolve/main/config.json from cache at C:\\Users\\miguel/.cache\\huggingface\\transformers\\17330f67d8c327c0b1699be552404022f63be5db79858b26484fc847da416eb9.2e4532ea7d3ba93d791168876c978107ea0cba47d2b0736de7c9139e9670eff4\n"
     ]
    },
    {
     "name": "stderr",
     "output_type": "stream",
     "text": [
      "Model config BertConfig {\n",
      "  \"_name_or_path\": \"mrm8488/distill-bert-base-spanish-wwm-cased-finetuned-spa-squad2-es\",\n",
      "  \"architectures\": [\n",
      "    \"BertForQuestionAnswering\"\n",
      "  ],\n",
      "  \"attention_probs_dropout_prob\": 0.1,\n",
      "  \"classifier_dropout\": null,\n",
      "  \"hidden_act\": \"gelu\",\n",
      "  \"hidden_dropout_prob\": 0.1,\n",
      "  \"hidden_size\": 768,\n",
      "  \"initializer_range\": 0.02,\n",
      "  \"intermediate_size\": 3072,\n",
      "  \"layer_norm_eps\": 1e-12,\n",
      "  \"max_position_embeddings\": 512,\n",
      "  \"model_type\": \"bert\",\n",
      "  \"num_attention_heads\": 12,\n",
      "  \"num_hidden_layers\": 12,\n",
      "  \"output_past\": true,\n",
      "  \"pad_token_id\": 1,\n",
      "  \"position_embedding_type\": \"absolute\",\n",
      "  \"transformers_version\": \"4.21.1\",\n",
      "  \"type_vocab_size\": 2,\n",
      "  \"use_cache\": true,\n",
      "  \"vocab_size\": 31002\n",
      "}\n",
      "\n"
     ]
    }
   ],
   "source": [
    "nlp = pipeline(\n",
    "'question-answering',\n",
    "model='mrm8488/distill-bert-base-spanish-wwm-cased-finetuned-spa-squad2-es',\n",
    "tokenizer=(\n",
    "'mrm8488/distill-bert-base-spanish-wwm-cased-finetuned-spa-squad2-es',\n",
    "{\"use_fast\": False}\n",
    ")\n",
    ")"
   ]
  },
  {
   "cell_type": "code",
   "execution_count": 25,
   "id": "1e890849",
   "metadata": {
    "execution": {
     "iopub.execute_input": "2022-08-18T04:22:24.279168Z",
     "iopub.status.busy": "2022-08-18T04:22:24.279168Z",
     "iopub.status.idle": "2022-08-18T04:22:57.298817Z",
     "shell.execute_reply": "2022-08-18T04:22:57.298817Z"
    },
    "papermill": {
     "duration": 33.057676,
     "end_time": "2022-08-18T04:22:57.299818",
     "exception": false,
     "start_time": "2022-08-18T04:22:24.242142",
     "status": "completed"
    },
    "tags": []
   },
   "outputs": [],
   "source": [
    "for question_id in question_object:\n",
    "    question_text = question_object[question_id]['question']\n",
    "    question_response = nlp({\n",
    "    'question': question_text,\n",
    "    'context': full_text\n",
    "    })\n",
    "    question_object[question_id]['response'] = question_response"
   ]
  },
  {
   "cell_type": "code",
   "execution_count": 26,
   "id": "a5efe144",
   "metadata": {
    "execution": {
     "iopub.execute_input": "2022-08-18T04:22:57.386439Z",
     "iopub.status.busy": "2022-08-18T04:22:57.386439Z",
     "iopub.status.idle": "2022-08-18T04:22:57.391438Z",
     "shell.execute_reply": "2022-08-18T04:22:57.392438Z"
    },
    "papermill": {
     "duration": 0.05862,
     "end_time": "2022-08-18T04:22:57.392438",
     "exception": false,
     "start_time": "2022-08-18T04:22:57.333818",
     "status": "completed"
    },
    "tags": [
     "output"
    ]
   },
   "outputs": [
    {
     "data": {
      "text/plain": [
       "{'1': {'question': '¿qué repercusión tuvo?',\n",
       "  'response': {'score': 0.12099394202232361,\n",
       "   'start': 278,\n",
       "   'end': 330,\n",
       "   'answer': 'anulando las prohibiciones que aún estaban vigentes,'}},\n",
       " '2': {'question': '¿Quién estuvo implicado?',\n",
       "  'response': {'score': 0.10810230672359467,\n",
       "   'start': 145,\n",
       "   'end': 172,\n",
       "   'answer': 'expresidente Jimmy Morales,'}},\n",
       " '3': {'question': '¿Corrupción?',\n",
       "  'response': {'score': 0.045843034982681274,\n",
       "   'start': 856,\n",
       "   'end': 882,\n",
       "   'answer': 'supuestas plazas fantasma,'}}}"
      ]
     },
     "execution_count": 26,
     "metadata": {},
     "output_type": "execute_result"
    }
   ],
   "source": [
    "#this cell is tagged as output\n",
    "question_object"
   ]
  }
 ],
 "metadata": {
  "celltoolbar": "Tags",
  "kernelspec": {
   "display_name": "Python 3.8.3 32-bit",
   "language": "python",
   "name": "python3"
  },
  "language_info": {
   "codemirror_mode": {
    "name": "ipython",
    "version": 3
   },
   "file_extension": ".py",
   "mimetype": "text/x-python",
   "name": "python",
   "nbconvert_exporter": "python",
   "pygments_lexer": "ipython3",
   "version": "3.8.8"
  },
  "papermill": {
   "default_parameters": {},
   "duration": 87.927492,
   "end_time": "2022-08-18T04:23:00.905806",
   "environment_variables": {},
   "exception": null,
   "input_path": "c:\\Users\\miguel\\Desktop\\MAESTRIA-UNIR\\CURSOS\\SEMESTRE3\\SEMINARIO\\TRABAJOFINALMAESTRIA\\code\\flask_prod_app\\static\\notebooks/main_script.ipynb",
   "output_path": "c:\\Users\\miguel\\Desktop\\MAESTRIA-UNIR\\CURSOS\\SEMESTRE3\\SEMINARIO\\TRABAJOFINALMAESTRIA\\code\\flask_prod_app\\static\\notebooks/output_execution_test.ipynb",
   "parameters": {
    "question_object": {
     "1": {
      "question": "¿qué repercusión tuvo?"
     },
     "2": {
      "question": "¿Quién estuvo implicado?"
     },
     "3": {
      "question": "¿Corrupción?"
     }
    },
    "word_to_search": "Jimmy Morales"
   },
   "start_time": "2022-08-18T04:21:32.978314",
   "version": "2.4.0"
  },
  "vscode": {
   "interpreter": {
    "hash": "19408caf2d1121ec6fa7e2fb8e59e6b308e0cd4a164ce1b58b44f758939db739"
   }
  }
 },
 "nbformat": 4,
 "nbformat_minor": 5
}
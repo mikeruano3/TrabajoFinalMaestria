{
 "cells": [
  {
   "cell_type": "code",
   "execution_count": 68,
   "id": "afda37b0",
   "metadata": {},
   "outputs": [
    {
     "data": {
      "application/vnd.jupyter.widget-view+json": {
       "model_id": "1982523d2bcd487783155e75d90a9b2c",
       "version_major": 2,
       "version_minor": 0
      },
      "text/plain": [
       "Executing:   0%|          | 0/4 [00:00<?, ?cell/s]"
      ]
     },
     "metadata": {},
     "output_type": "display_data"
    },
    {
     "name": "stdout",
     "output_type": "stream",
     "text": [
      "{'cells': [{'cell_type': 'code', 'execution_count': 1, 'metadata': {'tags': ['parameters'], 'papermill': {'exception': False, 'start_time': '2022-08-18T02:54:04.334893', 'end_time': '2022-08-18T02:54:04.376381', 'duration': 0.041488, 'status': 'completed'}, 'execution': {'iopub.status.busy': '2022-08-18T02:54:04.359386Z', 'iopub.execute_input': '2022-08-18T02:54:04.361411Z', 'iopub.status.idle': '2022-08-18T02:54:04.373389Z', 'shell.execute_reply': '2022-08-18T02:54:04.375381Z'}}, 'outputs': [], 'source': \"# this cell is tagged 'parameters'\\nalpha = 0.0\\nratio = 0.0\", 'id': 'e32544f6'}, {'id': 'd493ea50', 'cell_type': 'code', 'metadata': {'tags': ['injected-parameters'], 'papermill': {'exception': False, 'start_time': '2022-08-18T02:54:04.395946', 'end_time': '2022-08-18T02:54:04.431314', 'duration': 0.035368, 'status': 'completed'}, 'execution': {'iopub.status.busy': '2022-08-18T02:54:04.415025Z', 'iopub.execute_input': '2022-08-18T02:54:04.416024Z', 'shell.execute_reply': '2022-08-18T02:54:04.429312Z', 'iopub.status.idle': '2022-08-18T02:54:04.430314Z'}}, 'execution_count': 2, 'source': '# Parameters\\nalpha = 0.6\\nratio = 0.1\\n', 'outputs': []}, {'cell_type': 'code', 'execution_count': 3, 'metadata': {'tags': [], 'papermill': {'exception': False, 'start_time': '2022-08-18T02:54:04.443481', 'end_time': '2022-08-18T02:54:04.475750', 'duration': 0.032269, 'status': 'completed'}, 'execution': {'iopub.status.busy': '2022-08-18T02:54:04.454481Z', 'iopub.execute_input': '2022-08-18T02:54:04.455480Z', 'shell.execute_reply': '2022-08-18T02:54:04.474750Z', 'iopub.status.idle': '2022-08-18T02:54:04.474750Z'}}, 'outputs': [{'output_type': 'stream', 'name': 'stdout', 'text': '0.6\\n'}], 'source': 'print(alpha)', 'id': '3a7ff678'}, {'cell_type': 'code', 'execution_count': 4, 'metadata': {'tags': ['output'], 'papermill': {'exception': False, 'start_time': '2022-08-18T02:54:04.481737', 'end_time': '2022-08-18T02:54:04.520860', 'duration': 0.039123, 'status': 'completed'}, 'execution': {'iopub.status.busy': '2022-08-18T02:54:04.500808Z', 'iopub.execute_input': '2022-08-18T02:54:04.501809Z', 'shell.execute_reply': '2022-08-18T02:54:04.519848Z', 'iopub.status.idle': '2022-08-18T02:54:04.520860Z'}}, 'outputs': [{'output_type': 'execute_result', 'metadata': {}, 'data': {'text/plain': \"{'resultado': 0.7}\"}, 'execution_count': 4}], 'source': \"beta = { 'resultado': alpha + ratio }\\nbeta\", 'id': 'd298da65'}], 'metadata': {'celltoolbar': 'Tags', 'kernelspec': {'display_name': 'Python 3', 'language': 'python', 'name': 'python3'}, 'language_info': {'name': 'python', 'version': '3.8.8', 'mimetype': 'text/x-python', 'codemirror_mode': {'name': 'ipython', 'version': 3}, 'pygments_lexer': 'ipython3', 'nbconvert_exporter': 'python', 'file_extension': '.py'}, 'vscode': {'interpreter': {'hash': '19408caf2d1121ec6fa7e2fb8e59e6b308e0cd4a164ce1b58b44f758939db739'}}, 'orig_nbformat_minor': 2, 'papermill': {'default_parameters': {}, 'parameters': {'alpha': 0.6, 'ratio': 0.1}, 'environment_variables': {}, 'version': '2.4.0', 'input_path': 'script_params.ipynb', 'output_path': 'output_test.ipynb', 'start_time': '2022-08-18T02:54:03.058527', 'end_time': '2022-08-18T02:54:04.859851', 'duration': 1.801324, 'exception': None}}, 'nbformat': 4, 'nbformat_minor': 5}\n"
     ]
    }
   ],
   "source": [
    "import papermill as pm\n",
    "\n",
    "nbresult = pm.execute_notebook(\n",
    "   'script_params.ipynb',\n",
    "   'output_test.ipynb',\n",
    "   parameters = dict(alpha=0.6, ratio=0.1)\n",
    ")\n",
    "\n",
    "print(nbresult)"
   ]
  },
  {
   "cell_type": "code",
   "execution_count": 73,
   "id": "bc2baf7f",
   "metadata": {},
   "outputs": [
    {
     "name": "stdout",
     "output_type": "stream",
     "text": [
      "{'text/plain': \"{'resultado': 0.7}\"}\n"
     ]
    }
   ],
   "source": [
    "#result = next(cell for cell in nbresult.cells if ( celldata for celldata in cell.medatada.tags if( y[0] == 'parameters' ) ))\n",
    "result = list(cell for cell in nbresult.cells for celldata in cell['metadata']['tags'] if celldata == 'output')\n",
    "if result[0]:\n",
    "    print(result[0]['outputs'][0]['data']['text/plain'])"
   ]
  }
 ],
 "metadata": {
  "kernelspec": {
   "display_name": "Python 3",
   "language": "python",
   "name": "python3"
  },
  "language_info": {
   "codemirror_mode": {
    "name": "ipython",
    "version": 3
   },
   "file_extension": ".py",
   "mimetype": "text/x-python",
   "name": "python",
   "nbconvert_exporter": "python",
   "pygments_lexer": "ipython3",
   "version": "3.8.8"
  }
 },
 "nbformat": 4,
 "nbformat_minor": 5
}

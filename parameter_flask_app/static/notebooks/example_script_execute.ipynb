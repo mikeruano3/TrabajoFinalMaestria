{
 "cells": [
  {
   "cell_type": "code",
   "execution_count": 1,
   "id": "769682d7",
   "metadata": {},
   "outputs": [
    {
     "name": "stderr",
     "output_type": "stream",
     "text": [
      "Executing: 100%|██████████| 4/4 [00:02<00:00,  1.71cell/s]"
     ]
    },
    {
     "name": "stdout",
     "output_type": "stream",
     "text": [
      "{'cells': [{'cell_type': 'code', 'execution_count': 1, 'metadata': {'tags': ['parameters'], 'papermill': {'exception': False, 'start_time': '2022-08-18T03:48:01.351301', 'end_time': '2022-08-18T03:48:01.369830', 'duration': 0.018529, 'status': 'completed'}, 'execution': {'iopub.status.busy': '2022-08-18T03:48:01.360014Z', 'iopub.execute_input': '2022-08-18T03:48:01.361011Z', 'shell.execute_reply': '2022-08-18T03:48:01.368830Z', 'iopub.status.idle': '2022-08-18T03:48:01.369830Z'}}, 'outputs': [], 'source': \"# this cell is tagged 'parameters'\\nalpha = 0.0\\nratio = 0.0\", 'id': '5c312cdb'}, {'id': 'aa749ba8', 'cell_type': 'code', 'metadata': {'tags': ['injected-parameters'], 'papermill': {'exception': False, 'start_time': '2022-08-18T03:48:01.413701', 'end_time': '2022-08-18T03:48:01.431368', 'duration': 0.017667, 'status': 'completed'}, 'execution': {'iopub.status.busy': '2022-08-18T03:48:01.423337Z', 'iopub.execute_input': '2022-08-18T03:48:01.423337Z', 'shell.execute_reply': '2022-08-18T03:48:01.430332Z', 'iopub.status.idle': '2022-08-18T03:48:01.431368Z'}}, 'execution_count': 2, 'source': '# Parameters\\nalpha = 0.6\\nratio = 0.1\\n', 'outputs': []}, {'cell_type': 'code', 'execution_count': 3, 'metadata': {'tags': [], 'papermill': {'exception': False, 'start_time': '2022-08-18T03:48:01.435332', 'end_time': '2022-08-18T03:48:01.462879', 'duration': 0.027547, 'status': 'completed'}, 'execution': {'iopub.status.busy': '2022-08-18T03:48:01.446336Z', 'iopub.execute_input': '2022-08-18T03:48:01.446336Z', 'shell.execute_reply': '2022-08-18T03:48:01.461875Z', 'iopub.status.idle': '2022-08-18T03:48:01.462879Z'}}, 'outputs': [{'output_type': 'stream', 'name': 'stdout', 'text': '0.6\\n'}], 'source': 'print(alpha)', 'id': '3fe66b36'}, {'cell_type': 'code', 'execution_count': 4, 'metadata': {'tags': ['output'], 'papermill': {'exception': False, 'start_time': '2022-08-18T03:48:01.468893', 'end_time': '2022-08-18T03:48:01.495610', 'duration': 0.026717, 'status': 'completed'}, 'execution': {'iopub.status.busy': '2022-08-18T03:48:01.484921Z', 'iopub.execute_input': '2022-08-18T03:48:01.485922Z', 'iopub.status.idle': '2022-08-18T03:48:01.494614Z', 'shell.execute_reply': '2022-08-18T03:48:01.494614Z'}}, 'outputs': [{'output_type': 'execute_result', 'metadata': {}, 'data': {'text/plain': \"{'resultado': 0.7}\"}, 'execution_count': 4}], 'source': \"# this cell is tagged output\\nbeta = { 'resultado': alpha + ratio }\\nbeta\", 'id': '2825ac0d'}], 'metadata': {'celltoolbar': 'Tags', 'kernelspec': {'display_name': 'Python 3', 'language': 'python', 'name': 'python3'}, 'language_info': {'name': 'python', 'version': '3.8.8', 'mimetype': 'text/x-python', 'codemirror_mode': {'name': 'ipython', 'version': 3}, 'pygments_lexer': 'ipython3', 'nbconvert_exporter': 'python', 'file_extension': '.py'}, 'vscode': {'interpreter': {'hash': '19408caf2d1121ec6fa7e2fb8e59e6b308e0cd4a164ce1b58b44f758939db739'}}, 'orig_nbformat_minor': 2, 'papermill': {'default_parameters': {}, 'parameters': {'alpha': 0.6, 'ratio': 0.1}, 'environment_variables': {}, 'version': '2.4.0', 'input_path': 'main_script.ipynb', 'output_path': 'output_execution_test.ipynb', 'start_time': '2022-08-18T03:47:59.506499', 'end_time': '2022-08-18T03:48:01.841852', 'duration': 2.335353, 'exception': None}}, 'nbformat': 4, 'nbformat_minor': 5}\n"
     ]
    },
    {
     "name": "stderr",
     "output_type": "stream",
     "text": [
      "\n"
     ]
    }
   ],
   "source": [
    "import papermill as pm\n",
    "\n",
    "nbresult = pm.execute_notebook(\n",
    "   'main_script.ipynb',\n",
    "   'output_execution_test.ipynb',\n",
    "   parameters = dict(alpha=0.6, ratio=0.1)\n",
    ")\n",
    "\n",
    "print(nbresult)"
   ]
  },
  {
   "cell_type": "code",
   "execution_count": 4,
   "id": "0fbd90d8",
   "metadata": {},
   "outputs": [
    {
     "name": "stdout",
     "output_type": "stream",
     "text": [
      "{'resultado': 0.7}\n"
     ]
    }
   ],
   "source": [
    "#result = next(cell for cell in nbresult.cells if ( celldata for celldata in cell.medatada.tags if( y[0] == 'parameters' ) ))\n",
    "result = list(cell for cell in nbresult.cells for celldata in cell['metadata']['tags'] if celldata == 'output')\n",
    "if result[0]:\n",
    "    print(result[0]['outputs'][0]['data']['text/plain'])"
   ]
  }
 ],
 "metadata": {
  "kernelspec": {
   "display_name": "Python 3.8.8 ('base')",
   "language": "python",
   "name": "python3"
  },
  "language_info": {
   "codemirror_mode": {
    "name": "ipython",
    "version": 3
   },
   "file_extension": ".py",
   "mimetype": "text/x-python",
   "name": "python",
   "nbconvert_exporter": "python",
   "pygments_lexer": "ipython3",
   "version": "3.8.8"
  },
  "vscode": {
   "interpreter": {
    "hash": "257006080e833d260a997c02fb943a84f893968567ef79dcf54106ad401e7e3a"
   }
  }
 },
 "nbformat": 4,
 "nbformat_minor": 5
}

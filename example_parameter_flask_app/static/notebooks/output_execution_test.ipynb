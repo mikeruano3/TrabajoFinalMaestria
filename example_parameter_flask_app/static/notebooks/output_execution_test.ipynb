{
 "cells": [
  {
   "cell_type": "code",
   "execution_count": 1,
   "id": "306b1439",
   "metadata": {
    "execution": {
     "iopub.execute_input": "2022-08-18T03:48:43.572959Z",
     "iopub.status.busy": "2022-08-18T03:48:43.570957Z",
     "iopub.status.idle": "2022-08-18T03:48:43.583957Z",
     "shell.execute_reply": "2022-08-18T03:48:43.581960Z"
    },
    "papermill": {
     "duration": 0.038784,
     "end_time": "2022-08-18T03:48:43.584969",
     "exception": false,
     "start_time": "2022-08-18T03:48:43.546185",
     "status": "completed"
    },
    "tags": [
     "parameters"
    ]
   },
   "outputs": [],
   "source": [
    "# this cell is tagged 'parameters'\n",
    "alpha = 0.0\n",
    "ratio = 0.0"
   ]
  },
  {
   "cell_type": "code",
   "execution_count": 2,
   "id": "41ba7a2f",
   "metadata": {
    "execution": {
     "iopub.execute_input": "2022-08-18T03:48:43.626892Z",
     "iopub.status.busy": "2022-08-18T03:48:43.625894Z",
     "iopub.status.idle": "2022-08-18T03:48:43.643518Z",
     "shell.execute_reply": "2022-08-18T03:48:43.642881Z"
    },
    "papermill": {
     "duration": 0.043037,
     "end_time": "2022-08-18T03:48:43.643518",
     "exception": false,
     "start_time": "2022-08-18T03:48:43.600481",
     "status": "completed"
    },
    "tags": [
     "injected-parameters"
    ]
   },
   "outputs": [],
   "source": [
    "# Parameters\n",
    "alpha = \"6\"\n",
    "ratio = \"6\"\n"
   ]
  },
  {
   "cell_type": "code",
   "execution_count": 3,
   "id": "7e4d4cb5",
   "metadata": {
    "execution": {
     "iopub.execute_input": "2022-08-18T03:48:43.667273Z",
     "iopub.status.busy": "2022-08-18T03:48:43.665717Z",
     "iopub.status.idle": "2022-08-18T03:48:43.675410Z",
     "shell.execute_reply": "2022-08-18T03:48:43.674384Z"
    },
    "papermill": {
     "duration": 0.023485,
     "end_time": "2022-08-18T03:48:43.675410",
     "exception": false,
     "start_time": "2022-08-18T03:48:43.651925",
     "status": "completed"
    },
    "tags": []
   },
   "outputs": [
    {
     "name": "stdout",
     "output_type": "stream",
     "text": [
      "6\n"
     ]
    }
   ],
   "source": [
    "print(alpha)"
   ]
  },
  {
   "cell_type": "code",
   "execution_count": 4,
   "id": "5e3cc0c0",
   "metadata": {
    "execution": {
     "iopub.execute_input": "2022-08-18T03:48:43.710689Z",
     "iopub.status.busy": "2022-08-18T03:48:43.709689Z",
     "iopub.status.idle": "2022-08-18T03:48:43.722533Z",
     "shell.execute_reply": "2022-08-18T03:48:43.721533Z"
    },
    "papermill": {
     "duration": 0.039913,
     "end_time": "2022-08-18T03:48:43.723533",
     "exception": false,
     "start_time": "2022-08-18T03:48:43.683620",
     "status": "completed"
    },
    "tags": [
     "output"
    ]
   },
   "outputs": [
    {
     "data": {
      "text/plain": [
       "{'resultado': '66'}"
      ]
     },
     "execution_count": 4,
     "metadata": {},
     "output_type": "execute_result"
    }
   ],
   "source": [
    "# this cell is tagged output\n",
    "beta = { 'resultado': alpha + ratio }\n",
    "beta"
   ]
  }
 ],
 "metadata": {
  "celltoolbar": "Tags",
  "kernelspec": {
   "display_name": "Python 3",
   "language": "python",
   "name": "python3"
  },
  "language_info": {
   "codemirror_mode": {
    "name": "ipython",
    "version": 3
   },
   "file_extension": ".py",
   "mimetype": "text/x-python",
   "name": "python",
   "nbconvert_exporter": "python",
   "pygments_lexer": "ipython3",
   "version": "3.8.8"
  },
  "papermill": {
   "default_parameters": {},
   "duration": 2.332325,
   "end_time": "2022-08-18T03:48:44.065812",
   "environment_variables": {},
   "exception": null,
   "input_path": "c:\\Users\\miguel\\Desktop\\MAESTRIA-UNIR\\CURSOS\\SEMESTRE3\\SEMINARIO\\TRABAJOFINALMAESTRIA\\code\\parameter_flask_app\\static\\notebooks/main_script.ipynb",
   "output_path": "c:\\Users\\miguel\\Desktop\\MAESTRIA-UNIR\\CURSOS\\SEMESTRE3\\SEMINARIO\\TRABAJOFINALMAESTRIA\\code\\parameter_flask_app\\static\\notebooks/output_execution_test.ipynb",
   "parameters": {
    "alpha": "6",
    "ratio": "6"
   },
   "start_time": "2022-08-18T03:48:41.733487",
   "version": "2.4.0"
  },
  "vscode": {
   "interpreter": {
    "hash": "19408caf2d1121ec6fa7e2fb8e59e6b308e0cd4a164ce1b58b44f758939db739"
   }
  }
 },
 "nbformat": 4,
 "nbformat_minor": 5
}
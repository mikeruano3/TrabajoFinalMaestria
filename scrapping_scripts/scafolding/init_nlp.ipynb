{
 "cells": [
  {
   "cell_type": "code",
   "execution_count": 3,
   "metadata": {
    "tags": [
     "output"
    ]
   },
   "outputs": [
    {
     "name": "stdout",
     "output_type": "stream",
     "text": [
      "{'status': 200, 'isGlobalVariableReady': True}\n"
     ]
    }
   ],
   "source": [
    "#this cell is tagged as output\n",
    "\n",
    "%store -r nlp\n",
    "%store -r isGlobalVariableReady\n",
    "\n",
    "if not isGlobalVariableReady:\n",
    "    from transformers import *\n",
    "    from tensorflow import keras       \n",
    "    from transformers import AutoTokenizer, AutoModelForQuestionAnswering\n",
    "\n",
    "    tokenizer = AutoTokenizer.from_pretrained(\"mrm8488/distill-bert-base-spanish-wwm-cased-finetuned-spa-squad2-es\")\n",
    "\n",
    "    model = AutoModelForQuestionAnswering.from_pretrained(\"mrm8488/distill-bert-base-spanish-wwm-cased-finetuned-spa-squad2-es\") \n",
    "\n",
    "    %store nlp\n",
    "    isGlobalVariableReady = True\n",
    "    %store isGlobalVariableReady\n",
    "\n",
    "respuesta = dict()\n",
    "respuesta['status'] = 200\n",
    "respuesta['isGlobalVariableReady'] = isGlobalVariableReady\n",
    "print(respuesta)"
   ]
  }
 ],
 "metadata": {
  "celltoolbar": "Tags",
  "kernelspec": {
   "display_name": "Python 3",
   "language": "python",
   "name": "python3"
  },
  "language_info": {
   "codemirror_mode": {
    "name": "ipython",
    "version": 3
   },
   "file_extension": ".py",
   "mimetype": "text/x-python",
   "name": "python",
   "nbconvert_exporter": "python",
   "pygments_lexer": "ipython3",
   "version": "3.8.8"
  },
  "vscode": {
   "interpreter": {
    "hash": "257006080e833d260a997c02fb943a84f893968567ef79dcf54106ad401e7e3a"
   }
  }
 },
 "nbformat": 4,
 "nbformat_minor": 2
}

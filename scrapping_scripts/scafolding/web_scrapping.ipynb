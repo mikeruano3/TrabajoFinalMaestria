{
 "cells": [
  {
   "cell_type": "code",
   "execution_count": 1,
   "metadata": {
    "tags": [
     "parameters"
    ]
   },
   "outputs": [],
   "source": [
    "# this cell is tagged 'parameters'\n",
    "word_to_search = 'Jimmy Morales'"
   ]
  },
  {
   "cell_type": "code",
   "execution_count": 2,
   "metadata": {},
   "outputs": [],
   "source": [
    "import requests\n",
    "from bs4 import BeautifulSoup"
   ]
  },
  {
   "cell_type": "code",
   "execution_count": 3,
   "metadata": {},
   "outputs": [],
   "source": [
    "from selenium import webdriver\n",
    "from selenium.webdriver.common.by import By as By\n",
    "import selenium, keras, tensorflow"
   ]
  },
  {
   "cell_type": "code",
   "execution_count": 5,
   "metadata": {},
   "outputs": [],
   "source": [
    "driver = webdriver.Chrome(executable_path='../../chromedriver')"
   ]
  },
  {
   "cell_type": "code",
   "execution_count": 7,
   "metadata": {},
   "outputs": [],
   "source": [
    "url = 'https://elperiodico.com.gt/politica/justicia/2022/08/12/the-economist-jose-ruben-zamora-ha-hecho-una-cruzada-contra-la-corrupcion-en-guatemala/'\n",
    "r = requests.get(url)"
   ]
  },
  {
   "cell_type": "code",
   "execution_count": 9,
   "metadata": {},
   "outputs": [],
   "source": [
    "driver.get(url)"
   ]
  },
  {
   "cell_type": "code",
   "execution_count": 10,
   "metadata": {},
   "outputs": [],
   "source": [
    "try:\n",
    "    botonCerrarNotificacion = driver.find_element_by_xpath('//*[@id=\"onesignal-slidedown-cancel-button\"]' )\n",
    "    botonCerrarNotificacion.click()\n",
    "except:\n",
    "    print('No hay notificacion')"
   ]
  },
  {
   "cell_type": "code",
   "execution_count": 11,
   "metadata": {},
   "outputs": [],
   "source": [
    "button_login = driver.find_element_by_xpath('//*[@id=\"userbox\"]/nav/a[2]/i')\n",
    "button_login.click()"
   ]
  },
  {
   "cell_type": "code",
   "execution_count": 12,
   "metadata": {},
   "outputs": [],
   "source": [
    "# si necesita ingresar usuario y contraseña para ver mas articiulos\n",
    "user_name = driver.find_element_by_xpath('//*[@id=\"user_login\"]')\n",
    "user_password = driver.find_element_by_xpath('//*[@id=\"user_pass\"]')\n",
    "button_accept = driver.find_element_by_xpath('//*[@id=\"wp-submit\"]')\n",
    "user_name.clear()\n",
    "user_password.clear()\n",
    "user_name.send_keys('yoentroalau@gmail.com')\n",
    "user_password.send_keys('A@@@1234')\n",
    "button_accept.click()"
   ]
  },
  {
   "cell_type": "code",
   "execution_count": 13,
   "metadata": {},
   "outputs": [],
   "source": [
    "driver.get(f'https://elperiodico.com.gt/?s={word_to_search}&Submit=')"
   ]
  },
  {
   "cell_type": "code",
   "execution_count": 14,
   "metadata": {},
   "outputs": [],
   "source": [
    "try:\n",
    "    entradas_anteriores = driver.find_element_by_class_name('nav-previous')\n",
    "    entradas_anteriores.click()\n",
    "except:\n",
    "    print('No hay entradas anteriores')\n"
   ]
  },
  {
   "cell_type": "code",
   "execution_count": 15,
   "metadata": {},
   "outputs": [],
   "source": [
    "link_articulo = driver.find_element_by_xpath('//*[@id=\"seccion\"]/div[1]/div/a[1]')\n",
    "link_articulo.click()"
   ]
  },
  {
   "cell_type": "code",
   "execution_count": 16,
   "metadata": {},
   "outputs": [
    {
     "name": "stdout",
     "output_type": "stream",
     "text": [
      "MP pide desestimar investigación que vincula a Jimmy Morales\n",
      "['14-09-21']\n"
     ]
    }
   ],
   "source": [
    "import re\n",
    "title = driver.find_element_by_class_name('post-title-big').text\n",
    "print(title)\n",
    "date  = driver.find_element_by_xpath('//*[@id=\"space-meta\"]').text\n",
    "formatted_date = re.findall(\"\\d\\d-\\d\\d-\\d\\d\", date)\n",
    "print(formatted_date)\n",
    "\n",
    "articles_body = driver.find_element_by_xpath('//div[@class=\"flexible-article-content\"]')\n",
    "\n"
   ]
  },
  {
   "cell_type": "code",
   "execution_count": 17,
   "metadata": {},
   "outputs": [
    {
     "name": "stdout",
     "output_type": "stream",
     "text": [
      "La Fiscalía contra la Corrupción solicitó al Juzgado Octavo Penal desestimar la investigación que se había iniciado por la supuesta compra irregular de los aviones Pampa lll a Argentina y que vinculaba al expresidente Jimmy Morales. \n",
      "El juzgado programó la diligencia para discutir la petición de la fiscalía el 22 de febrero de 2022. En la audiencia el Ministerio Público (MP) debe argumentar la razón por la que desiste de continuar con ese caso. \n",
      "Según el MP, no existen medios que ameriten perseguir a ninguna persona, ya que se investigaba la posible compra de las aeronaves, pero al no concretarse, no hay hechos que indagar. “En los medios de investigación se establece que no hay hecho punible que proseguir”, afirmó el ente investigador.\n",
      "Este caso se originó el 2 de julio de 2019. Morales junto con el exministro de la Defensa, Luis Ralda, y la exministra de Relaciones Exteriores, Sandra Jovel, viajaron a Argentina a reunirse con el presidente de esa nación, Mauricio Macri, para concretar la negociación de la compra de los aviones.\n",
      "La adquisición de las aeronaves iba a tener un costo de US$28 millones. Este es otro proceso que el MP no seguirá contra el exmandatario, hace dos meses no apeló el rechazo de un antejuicio interpuesto contra dicho exfuncionario. \n"
     ]
    }
   ],
   "source": [
    "from selenium.webdriver.common.by import By\n",
    "\n",
    "articles = articles_body.find_elements(By.TAG_NAME, 'p')\n",
    "\n",
    "full_text = ''\n",
    "\n",
    "for article in articles:\n",
    "    print(article.text)\n",
    "    full_text = full_text + article.text + ' '"
   ]
  },
  {
   "cell_type": "code",
   "execution_count": 18,
   "metadata": {},
   "outputs": [],
   "source": [
    "driver.close()"
   ]
  },
  {
   "cell_type": "code",
   "execution_count": 20,
   "metadata": {
    "tags": [
     "output"
    ]
   },
   "outputs": [
    {
     "name": "stdout",
     "output_type": "stream",
     "text": [
      "La Fiscalía contra la Corrupción solicitó al Juzgado Octavo Penal desestimar la investigación que se había iniciado por la supuesta compra irregular de los aviones Pampa lll a Argentina y que vinculaba al expresidente Jimmy Morales.  El juzgado programó la diligencia para discutir la petición de la fiscalía el 22 de febrero de 2022. En la audiencia el Ministerio Público (MP) debe argumentar la razón por la que desiste de continuar con ese caso.  Según el MP, no existen medios que ameriten perseguir a ninguna persona, ya que se investigaba la posible compra de las aeronaves, pero al no concretarse, no hay hechos que indagar. “En los medios de investigación se establece que no hay hecho punible que proseguir”, afirmó el ente investigador. Este caso se originó el 2 de julio de 2019. Morales junto con el exministro de la Defensa, Luis Ralda, y la exministra de Relaciones Exteriores, Sandra Jovel, viajaron a Argentina a reunirse con el presidente de esa nación, Mauricio Macri, para concretar la negociación de la compra de los aviones. La adquisición de las aeronaves iba a tener un costo de US$28 millones. Este es otro proceso que el MP no seguirá contra el exmandatario, hace dos meses no apeló el rechazo de un antejuicio interpuesto contra dicho exfuncionario.  \n"
     ]
    }
   ],
   "source": [
    "#this cell is tagged as output\n",
    "print(full_text)"
   ]
  }
 ],
 "metadata": {
  "celltoolbar": "Tags",
  "kernelspec": {
   "display_name": "Python 3",
   "language": "python",
   "name": "python3"
  },
  "language_info": {
   "codemirror_mode": {
    "name": "ipython",
    "version": 3
   },
   "file_extension": ".py",
   "mimetype": "text/x-python",
   "name": "python",
   "nbconvert_exporter": "python",
   "pygments_lexer": "ipython3",
   "version": "3.8.8"
  },
  "vscode": {
   "interpreter": {
    "hash": "257006080e833d260a997c02fb943a84f893968567ef79dcf54106ad401e7e3a"
   }
  }
 },
 "nbformat": 4,
 "nbformat_minor": 2
}
